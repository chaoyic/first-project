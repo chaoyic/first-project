{
 "cells": [
  {
   "cell_type": "markdown",
   "metadata": {},
   "source": [
    "### Introduction\n",
    "This tutorial will introduce analysing datas related to stocks (or furtures) by using one of the APIs provided by [Quantopian](www.quantopian.com).\n",
    "\n",
    "### Introduction to the platform\n",
    "Before we start the tutorial, let us have a quick introduction on the platform we are using.\n",
    "\n",
    "For most of the tasks in computing or programming, we are able to achieve what we want by running on a local machine. However, this tutorial is about using Quantopian'a API, which must be run online on the website.\n",
    "\n",
    "As what we do are online, which means that the iPython notebook is run on a online customized iPython server, there are some functionalities from the API that are already there for us to use.\n",
    "\n",
    "The list of complete functions available is listed here: https://www.quantopian.com/help#research-env. Note that there functions are never imported explicitly."
   ]
  },
  {
   "cell_type": "markdown",
   "metadata": {},
   "source": [
    "### Tutorial content\n",
    "blablablabla"
   ]
  },
  {
   "cell_type": "markdown",
   "metadata": {},
   "source": [
    "### Libraries needed\n",
    "1. pandas\n",
    "\n",
    "2. numpy\n",
    "\n",
    "3. matplotlib (can be used internally by API, may not need to import explicitly)"
   ]
  },
  {
   "cell_type": "code",
   "execution_count": 1,
   "metadata": {
    "collapsed": true
   },
   "outputs": [],
   "source": [
    "import numpy as np\n",
    "import pandas as pd\n",
    "import matplotlib.pyplot as plt"
   ]
  },
  {
   "cell_type": "markdown",
   "metadata": {
    "collapsed": true
   },
   "source": [
    "### Get Pricing Data\n",
    "Now we will start the fisrt funtion of the API: `get_pricing`"
   ]
  },
  {
   "cell_type": "markdown",
   "metadata": {},
   "source": [
    "### Conclusion...\n",
    "In this tutorial, we used the Quantopian research API to access and manipulate data related to stocks. Data includes stocks pricing data, trading volume and sentiment data related to a stock.\n",
    "\n",
    "### And more!\n",
    "However, as everyone who is interested in using computing power in financial marktet might wonder, what we are doing are just _**analysing the data**_, but is it possible for us to write an algorithm for a sepcific _**trading strategy**_ and test it on the Quantopian platform?\n",
    "\n",
    "Turns out that the answer is a firm \"Yes\". There is another different API, which is an IDE, that allows us to do backtesting(1) and paper trading(2) in stocks or futures on Quantopian.\n",
    "\n",
    "Check out [Quantopian Algorithm](https://www.quantopian.com/algorithms) for these functionalities.\n",
    "\n",
    "Explanation:\n",
    "1. backtesting: the process of testing a trading strategy on relevant historical data as if you are trading on live.\n",
    "\n",
    "2. paper trading: sometimes known as walk-forward, or out-of-sample testing. In paper trading, your algorithm gets live market data (actually, 15-minute delayed data in Quantopian) and 'trades' against the live data with a simulated portfolio.\n",
    "\n",
    "\n"
   ]
  },
  {
   "cell_type": "markdown",
   "metadata": {},
   "source": [
    "### Further Resourse:\n",
    "1. Quantopian Tutorials: <https://www.quantopian.com/tutorials>\n",
    "\n",
    "2. Quantopian Help (documentation and explanation of the whole website and different functions): <https://www.quantopian.com/help>\n",
    "\n",
    "3. Research Environment API: https://www.quantopian.com/help#research-env\n",
    "\n"
   ]
  },
  {
   "cell_type": "markdown",
   "metadata": {},
   "source": []
  },
  {
   "cell_type": "markdown",
   "metadata": {},
   "source": []
  },
  {
   "cell_type": "code",
   "execution_count": null,
   "metadata": {
    "collapsed": true
   },
   "outputs": [],
   "source": []
  }
 ],
 "metadata": {
  "kernelspec": {
   "display_name": "Python 2",
   "language": "python",
   "name": "python2"
  },
  "language_info": {
   "codemirror_mode": {
    "name": "ipython",
    "version": 2
   },
   "file_extension": ".py",
   "mimetype": "text/x-python",
   "name": "python",
   "nbconvert_exporter": "python",
   "pygments_lexer": "ipython2",
   "version": "2.7.12"
  }
 },
 "nbformat": 4,
 "nbformat_minor": 2
}